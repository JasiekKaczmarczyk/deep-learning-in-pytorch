{
 "cells": [
  {
   "cell_type": "code",
   "execution_count": 1,
   "metadata": {},
   "outputs": [],
   "source": [
    "import torch\n",
    "import torch.nn as nn\n",
    "import torch.nn.functional as F\n",
    "import torch.optim as optim\n",
    "from torch.utils.data import DataLoader, Subset\n",
    "import torchvision\n",
    "import pytorch_lightning as pl\n",
    "from PIL import Image\n",
    "\n",
    "import numpy as np\n",
    "import uuid\n",
    "import matplotlib.pyplot as plt\n",
    "\n",
    "from diffusion_model import DiffusionModel\n",
    "from forward_diffusion import ForwardDiffusionModule\n",
    "from reverse_diffusion import UNet\n",
    "from utils import Transforms"
   ]
  },
  {
   "attachments": {},
   "cell_type": "markdown",
   "metadata": {},
   "source": [
    "#### Learner Module"
   ]
  },
  {
   "cell_type": "code",
   "execution_count": 2,
   "metadata": {},
   "outputs": [],
   "source": [
    "class Learner(pl.LightningModule):\n",
    "    def __init__(self, diffusion_model: DiffusionModel, lr: float, model_filepath: str, sampled_dir: str):\n",
    "        super().__init__()\n",
    "\n",
    "        self.save_hyperparameters(ignore=[\"diffusion_model\"])\n",
    "\n",
    "        self.diffusion_model = diffusion_model\n",
    "        self.num_steps = self.diffusion_model.forward_diffusion_model.num_steps\n",
    "\n",
    "        self.transforms = Transforms()\n",
    "\n",
    "    def forward(self, x: torch.Tensor, t: torch.Tensor):\n",
    "        return self.diffusion_model.reverse_diffusion_model(x, t)\n",
    "\n",
    "    def configure_optimizers(self):\n",
    "        optimizer = optim.AdamW(self.diffusion_model.reverse_diffusion_model.parameters(), lr=self.hparams[\"lr\"])\n",
    "\n",
    "        return optimizer\n",
    "\n",
    "    def training_step(self, batch, batch_idx):\n",
    "        x, y = batch\n",
    "        batch_size = x.shape[0]\n",
    "        t = torch.randint(1, self.num_steps, size=(batch_size,), device=self.device, dtype=torch.long)\n",
    "\n",
    "        x_noised, noise = self.diffusion_model.forward_diffusion(x, t)\n",
    "        predicted_noise = self.diffusion_model.reverse_diffusion(x_noised, t)\n",
    "\n",
    "        loss = F.mse_loss(noise, predicted_noise)\n",
    "\n",
    "        self.log_dict(\n",
    "            {\n",
    "                \"loss\": loss\n",
    "            }\n",
    "        )\n",
    "\n",
    "        return loss\n",
    "\n",
    "    def training_epoch_end(self, outputs):\n",
    "        # save sampled images\n",
    "        noise = torch.randn((4, 3, 64, 64), device=self.device)\n",
    "\n",
    "        sampled_images = self.diffusion_model.sample(noise)\n",
    "        grid = torchvision.utils.make_grid(sampled_images)\n",
    "\n",
    "        # transformed_grid = self.transforms.t2i(grid)\n",
    "        torchvision.utils.save_image(grid, fp=f\"{self.hparams['sampled_dir']}/sampled_{self.current_epoch}.jpg\")\n",
    "\n",
    "        # save model\n",
    "        self.diffusion_model.save(self.hparams[\"model_filepath\"])"
   ]
  },
  {
   "attachments": {},
   "cell_type": "markdown",
   "metadata": {},
   "source": [
    "#### Hyperparameters"
   ]
  },
  {
   "cell_type": "code",
   "execution_count": 3,
   "metadata": {},
   "outputs": [],
   "source": [
    "model_name = f\"diffusion_{str(uuid.uuid1())[:8]}\"\n",
    "\n",
    "hparams = dict(\n",
    "    lr=3e-4,\n",
    "    model_filepath=f\"models/{model_name}\",\n",
    "    sampled_dir=\"sampled\",\n",
    "    betas=[0.0001, 0.2],\n",
    "    num_steps=256,\n",
    "    \n",
    ")"
   ]
  },
  {
   "attachments": {},
   "cell_type": "markdown",
   "metadata": {},
   "source": [
    "#### Initializing Models"
   ]
  },
  {
   "cell_type": "code",
   "execution_count": 4,
   "metadata": {},
   "outputs": [],
   "source": [
    "forward_diffusion_model = ForwardDiffusionModule(num_steps=hparams[\"num_steps\"], beta_start=hparams[\"betas\"][0], beta_end=hparams[\"betas\"][1], schedule_type=\"cosine\")\n",
    "reverse_diffusion_model = UNet()\n",
    "diffusion_model = DiffusionModel(forward_diffusion_model, reverse_diffusion_model)\n",
    "learner = Learner(diffusion_model, lr=hparams[\"lr\"], model_filepath=hparams[\"model_filepath\"], sampled_dir=hparams[\"sampled_dir\"])"
   ]
  },
  {
   "attachments": {},
   "cell_type": "markdown",
   "metadata": {},
   "source": [
    "#### Dataset"
   ]
  },
  {
   "cell_type": "code",
   "execution_count": 5,
   "metadata": {},
   "outputs": [
    {
     "name": "stdout",
     "output_type": "stream",
     "text": [
      "Files already downloaded and verified\n"
     ]
    }
   ],
   "source": [
    "transforms = Transforms()\n",
    "\n",
    "subset_idx = range(10)\n",
    "\n",
    "cifar = torchvision.datasets.CIFAR10(download=True, root=\"~/Projekty/datasets/cifar\", transform=transforms.i2t)\n",
    "dataset = Subset(cifar, subset_idx)\n",
    "loader = DataLoader(dataset, batch_size=4, num_workers=8, shuffle=True)"
   ]
  },
  {
   "cell_type": "code",
   "execution_count": 8,
   "metadata": {},
   "outputs": [
    {
     "name": "stderr",
     "output_type": "stream",
     "text": [
      "GPU available: True (cuda), used: False\n",
      "TPU available: False, using: 0 TPU cores\n",
      "IPU available: False, using: 0 IPUs\n",
      "HPU available: False, using: 0 HPUs\n",
      "/home/jasiek/anaconda3/envs/machine-learning-env/lib/python3.10/site-packages/pytorch_lightning/trainer/setup.py:175: PossibleUserWarning: GPU available but not used. Set `accelerator` and `devices` using `Trainer(accelerator='gpu', devices=1)`.\n",
      "  rank_zero_warn(\n",
      "\n",
      "  | Name            | Type           | Params\n",
      "---------------------------------------------------\n",
      "0 | diffusion_model | DiffusionModel | 23.3 M\n",
      "---------------------------------------------------\n",
      "23.3 M    Trainable params\n",
      "0         Non-trainable params\n",
      "23.3 M    Total params\n",
      "93.331    Total estimated model params size (MB)\n"
     ]
    },
    {
     "data": {
      "application/vnd.jupyter.widget-view+json": {
       "model_id": "19735ea35b584e589cbcbaf16e0eb424",
       "version_major": 2,
       "version_minor": 0
      },
      "text/plain": [
       "Training: 0it [00:00, ?it/s]"
      ]
     },
     "metadata": {},
     "output_type": "display_data"
    }
   ],
   "source": [
    "trainer = pl.Trainer(max_epochs=1, accelerator=\"cpu\")\n",
    "trainer.fit(learner, loader)"
   ]
  },
  {
   "cell_type": "code",
   "execution_count": null,
   "metadata": {},
   "outputs": [],
   "source": []
  }
 ],
 "metadata": {
  "kernelspec": {
   "display_name": "machine-learning-env",
   "language": "python",
   "name": "python3"
  },
  "language_info": {
   "codemirror_mode": {
    "name": "ipython",
    "version": 3
   },
   "file_extension": ".py",
   "mimetype": "text/x-python",
   "name": "python",
   "nbconvert_exporter": "python",
   "pygments_lexer": "ipython3",
   "version": "3.10.4"
  },
  "orig_nbformat": 4,
  "vscode": {
   "interpreter": {
    "hash": "aee2ab588395e765446baa3aa07d10ec7d1eb1a0000e21d069248c85ac3e17b5"
   }
  }
 },
 "nbformat": 4,
 "nbformat_minor": 2
}
